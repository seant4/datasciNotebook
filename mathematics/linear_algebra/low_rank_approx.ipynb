{
 "cells": [
  {
   "cell_type": "code",
   "execution_count": 1,
   "id": "ab88a37b",
   "metadata": {},
   "outputs": [],
   "source": [
    "import numpy as np\n",
    "import matplotlib.pyplot as plt"
   ]
  },
  {
   "cell_type": "code",
   "execution_count": 19,
   "id": "7cc22c13",
   "metadata": {},
   "outputs": [],
   "source": [
    "# Example random data\n",
    "data = np.random.rand(5,5)"
   ]
  },
  {
   "cell_type": "code",
   "execution_count": 20,
   "id": "6a6c87c7",
   "metadata": {},
   "outputs": [],
   "source": [
    "# Decompose the matrix\n",
    "U, S, V = np.linalg.svd(data)\n",
    "S = np.diag(S)"
   ]
  },
  {
   "cell_type": "code",
   "execution_count": 21,
   "id": "183d5e5c",
   "metadata": {},
   "outputs": [],
   "source": [
    "# Full recomposition\n",
    "r = 5\n",
    "R = U[:, :r] @ S[:r, :r] @ V[:r, :]"
   ]
  },
  {
   "cell_type": "code",
   "execution_count": 22,
   "id": "0563883c",
   "metadata": {},
   "outputs": [
    {
     "name": "stdout",
     "output_type": "stream",
     "text": [
      "[[-4.37e-16  1.67e-16  5.55e-16  1.67e-16  9.99e-16]\n",
      " [-4.51e-16  1.11e-16 -2.50e-16 -1.67e-16  0.00e+00]\n",
      " [ 0.00e+00  5.00e-16  4.44e-16 -2.78e-17  0.00e+00]\n",
      " [-5.55e-16  3.33e-16 -1.11e-16 -2.22e-16  0.00e+00]\n",
      " [ 0.00e+00  3.33e-16  0.00e+00  1.11e-16  3.33e-16]]\n"
     ]
    }
   ],
   "source": [
    "# Comparison\n",
    "print(np.array_str((R - data), precision=2))"
   ]
  },
  {
   "cell_type": "code",
   "execution_count": 23,
   "id": "d2ac8f28",
   "metadata": {},
   "outputs": [],
   "source": [
    "# Small recomposition\n",
    "r = 2\n",
    "R = U[:, :r] @ S[:r, :r] @ V[:r, :]"
   ]
  },
  {
   "cell_type": "code",
   "execution_count": 27,
   "id": "07d241a6",
   "metadata": {},
   "outputs": [
    {
     "data": {
      "text/plain": [
       "array([[0.04379429, 0.42938728, 0.48951055, 0.10304914, 0.64920412],\n",
       "       [0.04534487, 0.58799569, 0.17643728, 0.36423724, 0.52634966],\n",
       "       [0.85899311, 0.39986133, 0.66363505, 0.10973282, 0.63312655],\n",
       "       [0.69788739, 0.73334405, 0.52828034, 0.74089421, 0.4926218 ],\n",
       "       [0.97193915, 0.61679811, 0.87498795, 0.6668791 , 0.27348961]])"
      ]
     },
     "execution_count": 27,
     "metadata": {},
     "output_type": "execute_result"
    }
   ],
   "source": []
  }
 ],
 "metadata": {
  "kernelspec": {
   "display_name": "Python 3 (ipykernel)",
   "language": "python",
   "name": "python3"
  },
  "language_info": {
   "codemirror_mode": {
    "name": "ipython",
    "version": 3
   },
   "file_extension": ".py",
   "mimetype": "text/x-python",
   "name": "python",
   "nbconvert_exporter": "python",
   "pygments_lexer": "ipython3",
   "version": "3.11.2"
  }
 },
 "nbformat": 4,
 "nbformat_minor": 5
}
