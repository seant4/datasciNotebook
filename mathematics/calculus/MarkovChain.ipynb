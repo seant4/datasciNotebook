{
 "cells": [
  {
   "cell_type": "code",
   "execution_count": 6,
   "id": "688c05e6",
   "metadata": {},
   "outputs": [],
   "source": [
    "import numpy as np\n",
    "import pandas as pd\n",
    "import matplotlib.pyplot as plt"
   ]
  },
  {
   "cell_type": "markdown",
   "id": "abd559b6",
   "metadata": {},
   "source": [
    "# Markov Chain\n",
    "A markov chain is a concept in probability theory that models the change of states over time. \n",
    "For example:\n",
    "\n",
    "I have 3 towns, town A, B and C\n",
    "\n",
    "* 30% of Town A will move to town B\n",
    "* 20% of Town A will move to town C\n",
    "\n",
    "* 50% of Town B will move to town A\n",
    "* 10% of Town B will move to town C\n",
    "\n",
    "* 70% of Town C will move to town A\n",
    "* 10% of Town C will mvoe to town B\n",
    "\n",
    "We can model this as a matrix:\n",
    "Each row corresponds the source, and each column represents the destination"
   ]
  },
  {
   "cell_type": "code",
   "execution_count": 9,
   "id": "dda96b42",
   "metadata": {},
   "outputs": [
    {
     "data": {
      "text/plain": [
       "array([[0.5, 0.3, 0.2],\n",
       "       [0.5, 0.4, 0.1],\n",
       "       [0.7, 0.1, 0.2]])"
      ]
     },
     "execution_count": 9,
     "metadata": {},
     "output_type": "execute_result"
    }
   ],
   "source": [
    "chain = np.array([[.5,.3,.2],[.5,.4,.1],[.7,.1,.2]])\n",
    "chain"
   ]
  },
  {
   "cell_type": "markdown",
   "id": "c95774ca",
   "metadata": {},
   "source": [
    "This is known as the transition matrix, its properties are as follows:\n",
    "* Each entry represents probability of moving from one state (row) to another state (column)\n",
    "    P(next state in column n | current state in row m)\n",
    "    \n",
    "* Eeach row adds to 1\n",
    "* 0 < All Entries < 1\n",
    "\n",
    "To represent a given state, we use a State Vector, this is a vector of size 1 x n, where:\n",
    "* 1 column for each state\n",
    "* The sum of all entries must equal 1\n",
    "* Each entry is a probability between 0 and 1\n"
   ]
  },
  {
   "cell_type": "code",
   "execution_count": 10,
   "id": "9cafb166",
   "metadata": {},
   "outputs": [
    {
     "data": {
      "text/plain": [
       "array([0.6, 0.3, 0.1])"
      ]
     },
     "execution_count": 10,
     "metadata": {},
     "output_type": "execute_result"
    }
   ],
   "source": [
    "v0 = np.array([.6,.3,.1])\n",
    "v0"
   ]
  },
  {
   "cell_type": "markdown",
   "id": "902d2a15",
   "metadata": {},
   "source": [
    "The distribution after 1 transition given the state vector and transition matrix is as follows"
   ]
  },
  {
   "cell_type": "code",
   "execution_count": 15,
   "id": "ba8dccc4",
   "metadata": {},
   "outputs": [
    {
     "data": {
      "text/plain": [
       "array([0.52, 0.31, 0.17])"
      ]
     },
     "execution_count": 15,
     "metadata": {},
     "output_type": "execute_result"
    }
   ],
   "source": [
    "v1 = v0 @ chain\n",
    "v1"
   ]
  },
  {
   "cell_type": "markdown",
   "id": "63fbfd3a",
   "metadata": {},
   "source": [
    "The next transition would use v1"
   ]
  },
  {
   "cell_type": "code",
   "execution_count": 17,
   "id": "e6929455",
   "metadata": {},
   "outputs": [
    {
     "data": {
      "text/plain": [
       "array([0.534, 0.297, 0.169])"
      ]
     },
     "execution_count": 17,
     "metadata": {},
     "output_type": "execute_result"
    }
   ],
   "source": [
    "v2 = v1 @ chain\n",
    "v2"
   ]
  },
  {
   "cell_type": "markdown",
   "id": "27886228",
   "metadata": {},
   "source": [
    "Therefore, $V_n$ = $V_0$$T^n$"
   ]
  },
  {
   "cell_type": "code",
   "execution_count": 20,
   "id": "1eaca7a4",
   "metadata": {},
   "outputs": [
    {
     "data": {
      "text/plain": [
       "array([0.53409085, 0.29545467, 0.17045448])"
      ]
     },
     "execution_count": 20,
     "metadata": {},
     "output_type": "execute_result"
    }
   ],
   "source": [
    "t8 = np.linalg.matrix_power(chain, 8)\n",
    "v8 = v0 @ t8\n",
    "v8"
   ]
  },
  {
   "cell_type": "code",
   "execution_count": 28,
   "id": "154d1314",
   "metadata": {},
   "outputs": [
    {
     "data": {
      "image/png": "[encoded data removed]",
      "text/plain": [
       "<Figure size 640x480 with 1 Axes>"
      ]
     },
     "metadata": {},
     "output_type": "display_data"
    }
   ],
   "source": [
    "states = np.array([v0,v1,v2])\n",
    "ylabels = [\"A\", \"B\", \"C\"]\n",
    "xlabels =[\"v0\", \"v1\", \"v2\"]\n",
    "fig, ax = plt.subplots()\n",
    "im = ax.imshow(states.T)\n",
    "states = np.round(states, 2)\n",
    "ax.set_yticks(np.arange(len(ylabels)), ylabels)\n",
    "ax.set_xticks(np.arange(len(xlabels)), xlabels)\n",
    "for i in range(len(ylabels)):\n",
    "    for j in range(len(xlabels)):\n",
    "        text = ax.text(j,i,(states.T)[i,j], ha=\"center\")"
   ]
  }
 ],
 "metadata": {
  "kernelspec": {
   "display_name": "Python 3 (ipykernel)",
   "language": "python",
   "name": "python3"
  },
  "language_info": {
   "codemirror_mode": {
    "name": "ipython",
    "version": 3
   },
   "file_extension": ".py",
   "mimetype": "text/x-python",
   "name": "python",
   "nbconvert_exporter": "python",
   "pygments_lexer": "ipython3",
   "version": "3.11.2"
  }
 },
 "nbformat": 4,
 "nbformat_minor": 5
}
