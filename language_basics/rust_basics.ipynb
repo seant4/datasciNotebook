{
 "cells": [
  {
   "cell_type": "code",
   "execution_count": 13,
   "id": "73fd028c-42cd-4cc0-9157-21671ad0ce89",
   "metadata": {},
   "outputs": [],
   "source": [
    ":dep polars = {version = \"0.32.0\", features=[\"lazy\"]}"
   ]
  },
  {
   "cell_type": "code",
   "execution_count": 10,
   "id": "e67490ce-77c9-49ea-b75c-8772c4fbe67e",
   "metadata": {},
   "outputs": [
    {
     "ename": "Error",
     "evalue": "failed to resolve: use of undeclared crate or module `polars`",
     "output_type": "error",
     "traceback": [
      "\u001b[31m[E0433] Error:\u001b[0m failed to resolve: use of undeclared crate or module `polars`"
     ]
    },
    {
     "ename": "Error",
     "evalue": "failed to resolve: use of undeclared crate or module `polars`",
     "output_type": "error",
     "traceback": [
      "\u001b[31m[E0433] Error:\u001b[0m failed to resolve: use of undeclared crate or module `polars`"
     ]
    },
    {
     "ename": "Error",
     "evalue": "unresolved import `polars::frame::DataFrame`",
     "output_type": "error",
     "traceback": [
      "\u001b[31m[E0432] Error:\u001b[0m unresolved import `polars::frame::DataFrame`"
     ]
    }
   ],
   "source": [
    "use polars::prelude::*;\n",
    "use polars::frame::DataFrame;"
   ]
  }
 ],
 "metadata": {
  "kernelspec": {
   "display_name": "Rust",
   "language": "rust",
   "name": "rust"
  },
  "language_info": {
   "codemirror_mode": "rust",
   "file_extension": ".rs",
   "mimetype": "text/rust",
   "name": "Rust",
   "pygment_lexer": "rust",
   "version": ""
  }
 },
 "nbformat": 4,
 "nbformat_minor": 5
}
