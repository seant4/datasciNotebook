{
 "cells": [
  {
   "cell_type": "code",
   "execution_count": 3,
   "id": "4f0b69ac",
   "metadata": {},
   "outputs": [
    {
     "ename": "ModuleNotFoundError",
     "evalue": "No module named 'tensorflow'",
     "output_type": "error",
     "traceback": [
      "\u001b[1;31m---------------------------------------------------------------------------\u001b[0m",
      "\u001b[1;31mModuleNotFoundError\u001b[0m                       Traceback (most recent call last)",
      "\u001b[1;32m~\\AppData\\Local\\Temp\\ipykernel_20924\\3021650508.py\u001b[0m in \u001b[0;36m<module>\u001b[1;34m\u001b[0m\n\u001b[0;32m      1\u001b[0m \u001b[1;32mimport\u001b[0m \u001b[0mos\u001b[0m\u001b[1;33m\u001b[0m\u001b[1;33m\u001b[0m\u001b[0m\n\u001b[0;32m      2\u001b[0m \u001b[1;32mimport\u001b[0m \u001b[0mnumpy\u001b[0m \u001b[1;32mas\u001b[0m \u001b[0mnp\u001b[0m\u001b[1;33m\u001b[0m\u001b[1;33m\u001b[0m\u001b[0m\n\u001b[1;32m----> 3\u001b[1;33m \u001b[1;32mimport\u001b[0m \u001b[0mtensorflow\u001b[0m \u001b[1;32mas\u001b[0m \u001b[0mtf\u001b[0m\u001b[1;33m\u001b[0m\u001b[1;33m\u001b[0m\u001b[0m\n\u001b[0m\u001b[0;32m      4\u001b[0m \u001b[1;32mimport\u001b[0m \u001b[0mkeras\u001b[0m\u001b[1;33m\u001b[0m\u001b[1;33m\u001b[0m\u001b[0m\n\u001b[0;32m      5\u001b[0m \u001b[1;32mfrom\u001b[0m \u001b[0mkeras\u001b[0m \u001b[1;32mimport\u001b[0m \u001b[0mlayers\u001b[0m\u001b[1;33m\u001b[0m\u001b[1;33m\u001b[0m\u001b[0m\n",
      "\u001b[1;31mModuleNotFoundError\u001b[0m: No module named 'tensorflow'"
     ]
    }
   ],
   "source": [
    "import os\n",
    "import numpy as np\n",
    "import tensorflow as tf\n",
    "import keras\n",
    "from keras import layers\n",
    "from keras.preprocessing.image import load_img, img_to_array\n",
    "import matplotlib.pyplot as plt\n",
    "import tensorflow_datasets as tfds"
   ]
  },
  {
   "cell_type": "code",
   "execution_count": null,
   "id": "e8d02b79",
   "metadata": {},
   "outputs": [],
   "source": [
    "dataset, info = tfds.load('oxford_iiit_pet:3.2.0', with_info=True)\n",
    "\n",
    "def normalize(input_image, input_mask):\n",
    "    input_image = tf.cast(input_image, tf.float32) / 255.0\n",
    "    input_mask -= 1\n",
    "    return input_image, input_mask\n",
    "\n",
    "def load_image_train(datapoint):\n",
    "    input_image = tf.image.resize(datapoint['image'], (128, 128))\n",
    "    input_mask = tf.image.resize(datapoint['segmentaiton_mask'], (128,128))\n",
    "    if tf.random.uniform(()) > 0.5:\n",
    "        input_image = tf.image.flip_left_right(input_image)\n",
    "        input_mask = tf.image.flip_left_right(input_mask)\n",
    "    input_image, input_mask = normalize(input_image, input_mask)\n",
    "    return input_image, input_mask\n",
    "\n",
    "def load_image_test(datapoint):\n",
    "    input_image = tf.image.resize(datapoint['image'], (128,128))\n",
    "    input_mask = tf.image.resize(datapoint['segmentation_mask'], (128,128))\n",
    "    input_image, input_mask = normalize(input_image, input_mask)\n",
    "    return input_image, input_mask\n",
    "\n",
    "TRAIN_LENGTH = info.splits['train'].num_examples\n",
    "BATCH_SIZE = 64\n",
    "BUFFER_SIZE = 1000\n",
    "\n",
    "STEPS_PER_EPOCH = TRAIN_LENGTH // BATCH_SIZE\n",
    "train = dataset['train'].map(load_image_train, num_parallel_calls=tf.data.experimental.AUTOTUNE)\n",
    "test = dataset['test'].map(load_image_test)\n",
    "\n",
    "train_dataset = trian.cache().shuffle(BUFFER_SIZE).batch(BATCH_SIZE).repeat()\n",
    "train_dataset = train_dataset.prefetch(buffer_size=tf.data.experimental.AUTOTUNE)\n",
    "test_dataset = test.batch(BATCH_SIZE)\n",
    "\n",
    "def build_unet(input_shape):\n",
    "    inputs = keras.Input(shape=input_shape)\n",
    "    conv1 = layers.Conv2D(64, (3,3), activation='relu', padding='same')(inputs)\n",
    "    conv1 = layers.Conv2D(64, (3,3), activation='relu', padding='same')(conv1)\n",
    "    pool1 = layers.MaxPooling2D(pool_size=(2,2))(conv1)\n",
    "    \n",
    "    conv2 = layers.Conv2D(128, (3,3), activation='relu', padding='same')(pool1)\n",
    "    conv2 = layers.Conv2D(128, (3,3), activation='relu', padding='same')(conv2)\n",
    "    pool2 = layers.MaxPooling2D(pool_size(2,2))(conv2)\n",
    "    \n",
    "    conv3 = layers.Conv2D(256, (3,3), activation='relu', padding='same')(pool2)\n",
    "    conv3 = layers.Conv2D(256, (3,3), activation='relu', padding='same')(conv3)\n",
    "    \n",
    "    up1 = layers.concatenate([layers.UpSampling2D(size=(2,2))(conv3), conv2], axis=-1)\n",
    "    conv4 = layers.Conv2D(128, (3,3), activation='relu', padding='same')(up1)\n",
    "    conv4 = layers.Conv2D(128, (3,3), activation='relu', padding='same')(conv4)\n",
    "    \n",
    "    up2 = layers.concatenate([layers.UpSampling2D(size=(2,2))(conv4), conv1], axis=-1)\n",
    "    conv5 = layers.Conv2D(64, (3,3), activation='relu', padding='same')(up2)\n",
    "    conv5 = layers.Conv2D(64, (3,3), activation='relu', padding='same')(conv5)\n",
    "    \n",
    "    outputs = layers.Conv2D(3,(1,1), activation='softmax')(conv5)\n",
    "    return keras.Model(inputs=inputs, outputs=outputs)\n",
    "\n",
    "model = build_unet((128, 128, 3))\n",
    "model.compile(optimizer='adam', loss='sparse_categorical_crossentropy', metrics=['accuracy'])"
   ]
  },
  {
   "cell_type": "code",
   "execution_count": null,
   "id": "d205583f",
   "metadata": {},
   "outputs": [],
   "source": [
    "EPOCHS = 10\n",
    "VAL_SUBSPLITS = 5\n",
    "VALIDATION_STEPS = info.splits['test'].num_examples//BATCH_SIZE//VAL_SUBSPLITS\n",
    "\n",
    "model_history = model.fit(train_dataset, epochs=EPOCHS,\n",
    "                         steps_per_epoch = STEPS_PER_EPOCH,\n",
    "                         validation_steps = VALIDATION_STEPS,\n",
    "                         validation_data = test_dataset)"
   ]
  },
  {
   "cell_type": "code",
   "execution_count": null,
   "id": "e126de45",
   "metadata": {},
   "outputs": [],
   "source": [
    "for image, mask in test_dataset.take(1):\n",
    "    pred_mask = model.predict(image)\n",
    "    plt.figure(figsize=(10,10))\n",
    "    for i in range(9):\n",
    "        plt.subplot(3,3,i+1)\n",
    "        plt.imshow(image[i])\n",
    "        plt.imshow(np.argmax(pred_max[i], axis=-1), alpha=0.5)\n",
    "        plt.axis(\"off\")\n",
    "    plt.show"
   ]
  }
 ],
 "metadata": {
  "kernelspec": {
   "display_name": "Python 3 (ipykernel)",
   "language": "python",
   "name": "python3"
  },
  "language_info": {
   "codemirror_mode": {
    "name": "ipython",
    "version": 3
   },
   "file_extension": ".py",
   "mimetype": "text/x-python",
   "name": "python",
   "nbconvert_exporter": "python",
   "pygments_lexer": "ipython3",
   "version": "3.9.13"
  }
 },
 "nbformat": 4,
 "nbformat_minor": 5
}
