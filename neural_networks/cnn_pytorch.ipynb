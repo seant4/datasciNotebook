{
 "cells": [
  {
   "cell_type": "code",
   "execution_count": null,
   "id": "6b946e71",
   "metadata": {},
   "outputs": [],
   "source": [
    "import sys\n",
    "import torch\n",
    "import torch.nn as nn\n",
    "import torchvision.datasets as dsets\n",
    "import torchvision.transforms as transforms"
   ]
  },
  {
   "cell_type": "code",
   "execution_count": null,
   "id": "48ebd184",
   "metadata": {},
   "outputs": [],
   "source": [
    "input_size = 784\n",
    "hidden_size = 500\n",
    "num_classes = 10\n",
    "num_epochs = 50\n",
    "batch_size = 100\n",
    "learning_rate = 1e-3"
   ]
  },
  {
   "cell_type": "code",
   "execution_count": null,
   "id": "4c5ec2d1",
   "metadata": {},
   "outputs": [],
   "source": [
    "transform = transforms.Compose(\n",
    "    [transforms.ToTensor(),\n",
    "    transforms.Normalize((0.5,0.5,0.5),(0.5,0.5,0.5))]\n",
    ")\n",
    "\n",
    "trainSet = dsets.MNIST(root='./data',\n",
    "                      train=True\n",
    "                      transform=transforms.ToTensor(),\n",
    "                      download=True)\n",
    "\n",
    "testSet = dsets.MNIST(root='./data',\n",
    "                     train=True,\n",
    "                     transform=transforms.ToTensor(),\n",
    "                     download=True)"
   ]
  },
  {
   "cell_type": "code",
   "execution_count": null,
   "id": "15cd3003",
   "metadata": {},
   "outputs": [],
   "source": [
    "subset = [1,2,3,4,5]\n",
    "subsetTrain = torch.utils.data.Subset(trainSet, subset)\n",
    "subsetTest = torch.utils.data.Subset(testSet, subset)\n",
    "trainLoader = torch.utils.data.DataLoader(dataset = subsetTrain,\n",
    "                                         batch_size = batch_size,\n",
    "                                         shuffle = True)\n",
    "\n",
    "testLoader = torch.utils.data.DataLoader(dataset = subsetTest,\n",
    "                                        batch_size = batch_size,\n",
    "                                        shuffle = False)"
   ]
  },
  {
   "cell_type": "code",
   "execution_count": null,
   "id": "13a3800b",
   "metadata": {},
   "outputs": [],
   "source": [
    "class Net(nn.Module):\n",
    "    def __init__(self):\n",
    "        super().__init__()\n",
    "        self.conv1 = nn.Conv2d(1,50,3) #1 Input channel (Grayscale), 50 output channels (50 features to look for), 3x3 kernel\n",
    "        self.pool = nn.MaxPool2d(2)\n",
    "        self.conv2 = nn.Conv2d(50,16,3) #50 input channels (conv1 output), 16 output\n",
    "        self.fc1 = nn.Linear(400, 120) #16 input (conv2) * (50/2) = 400\n",
    "        self.fc2 = nn.Linear(120,10)\n",
    "        \n",
    "    def forward(self, x):\n",
    "        out = self.pool(self.conv1(x))\n",
    "        out = self.pool(self.conv2(out))\n",
    "        out = torch.flatten(out, 1)\n",
    "        out = self.fc1(out)\n",
    "        out = self.fc2(out)\n",
    "        return out\n",
    "net = Net()\n",
    "use_cuda = False\n",
    "criterion = nn.CrossEntropyLoss()\n",
    "optimizer = torch.optimAdam(net.parameters(), lr=learning_rate)        "
   ]
  },
  {
   "cell_type": "code",
   "execution_count": null,
   "id": "2674186f",
   "metadata": {},
   "outputs": [],
   "source": [
    "for epoch in range(num_epochs):\n",
    "    for i, data in enumerate(trainLoader):\n",
    "        images, labels = data\n",
    "        optimizer.zero_grad()\n",
    "        outputs = net(images)\n",
    "        loss = criterion(outputs, labels)\n",
    "        loss.backward()\n",
    "        optimizer.step()\n",
    "        \n",
    "        print('Epoch [%d/%d], Step [%d/%d], Loss: %.4f'\n",
    "             %(epoch+1, num_epochs, i+1, len(trainSet)//batch_size, loss.data.item()))"
   ]
  }
 ],
 "metadata": {
  "kernelspec": {
   "display_name": "Python 3 (ipykernel)",
   "language": "python",
   "name": "python3"
  },
  "language_info": {
   "codemirror_mode": {
    "name": "ipython",
    "version": 3
   },
   "file_extension": ".py",
   "mimetype": "text/x-python",
   "name": "python",
   "nbconvert_exporter": "python",
   "pygments_lexer": "ipython3",
   "version": "3.9.13"
  }
 },
 "nbformat": 4,
 "nbformat_minor": 5
}
