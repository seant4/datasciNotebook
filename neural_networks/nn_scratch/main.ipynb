{
 "cells": [
  {
   "cell_type": "code",
   "execution_count": 121,
   "id": "cad673d8",
   "metadata": {},
   "outputs": [],
   "source": [
    "import numpy as np\n",
    "import math"
   ]
  },
  {
   "cell_type": "code",
   "execution_count": 154,
   "id": "91d48e39",
   "metadata": {},
   "outputs": [],
   "source": [
    "def sigmoid(x):\n",
    "    return 1 / (1 + math.exp(-x))\n",
    "\n",
    "def deriv_sigmoid(x):\n",
    "    return sigmoid(x) * (1-sigmoid(x))"
   ]
  },
  {
   "cell_type": "code",
   "execution_count": 155,
   "id": "62580d7e",
   "metadata": {},
   "outputs": [],
   "source": [
    "# For this example, we will train a nn to predict the xor problem\n",
    "x_train = np.array([[1,0],[0,1],[0,0],[1,1]]) # Row = sample, Column = Feature\n",
    "y_train = np.array([[1],[1],[0],[0]]) #one hot encoding of our output [1,0] represents 0, [0,1] represents 1\n",
    "m,n = x_train.shape"
   ]
  },
  {
   "cell_type": "code",
   "execution_count": 156,
   "id": "9033ef13",
   "metadata": {},
   "outputs": [],
   "source": [
    "# Weights and biases\n",
    "w1 = np.random.randn(x_train.shape[1],y_train.shape[1]) # Should be based on what we want the output to be\n",
    "b1 = np.zeros((1, y_train.shape[1]))"
   ]
  },
  {
   "cell_type": "code",
   "execution_count": 157,
   "id": "c67a1fa8",
   "metadata": {},
   "outputs": [],
   "source": [
    "# Forward Propigation\n",
    "z = np.dot(x_train, w1) + b1\n",
    "gz = np.vectorize(sigmoid)\n",
    "a = gz(z)"
   ]
  },
  {
   "cell_type": "code",
   "execution_count": 164,
   "id": "a5d9c81d",
   "metadata": {},
   "outputs": [],
   "source": [
    "# Back propogation\n",
    "# Gradient descent\n",
    "dl = a - y_train\n",
    "deriv_sig_vector = np.vectorize(deriv_sigmoid)\n",
    "gz = deriv_sig_vector(z)\n",
    "dw = np.dot(x_train.T, dl*gz) / m\n",
    "db = np.sum(dl, axis=0, keepdims=True)/m"
   ]
  },
  {
   "cell_type": "code",
   "execution_count": 167,
   "id": "694ef956",
   "metadata": {},
   "outputs": [],
   "source": [
    "# Update params\n",
    "alpha = .5\n",
    "w1 = w1 - (alpha * dw) \n",
    "b1 = b1 - (alpha * db)"
   ]
  },
  {
   "cell_type": "code",
   "execution_count": null,
   "id": "ccbd5104",
   "metadata": {},
   "outputs": [],
   "source": [
    "# Pr"
   ]
  }
 ],
 "metadata": {
  "kernelspec": {
   "display_name": "Python 3 (ipykernel)",
   "language": "python",
   "name": "python3"
  },
  "language_info": {
   "codemirror_mode": {
    "name": "ipython",
    "version": 3
   },
   "file_extension": ".py",
   "mimetype": "text/x-python",
   "name": "python",
   "nbconvert_exporter": "python",
   "pygments_lexer": "ipython3",
   "version": "3.11.2"
  }
 },
 "nbformat": 4,
 "nbformat_minor": 5
}
