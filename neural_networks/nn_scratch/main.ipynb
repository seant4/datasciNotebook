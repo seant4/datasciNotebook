{
 "cells": [
  {
   "cell_type": "code",
   "execution_count": 101,
   "id": "cad673d8",
   "metadata": {},
   "outputs": [],
   "source": [
    "import numpy as np\n",
    "import math"
   ]
  },
  {
   "cell_type": "markdown",
   "id": "377644fc",
   "metadata": {},
   "source": [
    "# Steps:\n",
    "1. Define our data\n",
    "2. Create random weights and biasis\n",
    "    > Our weights should be of shape such that we can dot product its transposition with our traning data, leading to a output that can either be progigated again to create another layer, or be the same shape as our output. Biasis should be the same size as weights\n",
    "3. Forward propogation:\n",
    "    1. z = (weights^T * x) + bias\n",
    "    2. f(z)\n",
    "4. Back propogation:\n",
    "    1. dz = y - y^hat\n",
    "    2. dw = 1 / m * (dz * z^T)\n",
    "    3. db = 1 / m * sum(dz)\n",
    "5. Update parameters\n",
    "    w = w - alpha * dw\n",
    "    b = b - alpha * db\n",
    " "
   ]
  },
  {
   "cell_type": "code",
   "execution_count": 102,
   "id": "91d48e39",
   "metadata": {},
   "outputs": [],
   "source": [
    "def sigmoid(x):\n",
    "    return 1 / (1 + math.exp(-x))\n",
    "\n",
    "def deriv_sigmoid(x):\n",
    "    return sigmoid(x) * (1-sigmoid(x))"
   ]
  },
  {
   "cell_type": "code",
   "execution_count": 103,
   "id": "62580d7e",
   "metadata": {},
   "outputs": [
    {
     "data": {
      "text/plain": [
       "((4, 2), (4, 2))"
      ]
     },
     "execution_count": 103,
     "metadata": {},
     "output_type": "execute_result"
    }
   ],
   "source": [
    "# For this example, we will train a nn to predict the xor problem\n",
    "x_train = np.array([[1,0],[0,1],[0,0],[1,1]]) # Row = sample, Column = Feature\n",
    "y_train = np.array([[0,1],[0,1],[0,0],[0,0]]) #one hot encoding of our output [1,0] represents 0, [0,1] represents 1\n",
    "m,n = x_train.shape"
   ]
  },
  {
   "cell_type": "code",
   "execution_count": 104,
   "id": "9033ef13",
   "metadata": {},
   "outputs": [],
   "source": [
    "# Weights and biases\n",
    "w1 = np.random.randn(4,4) # Should be based on what we want the output to be\n",
    "b1 = np.random.randn(2)"
   ]
  },
  {
   "cell_type": "code",
   "execution_count": 105,
   "id": "c67a1fa8",
   "metadata": {},
   "outputs": [],
   "source": [
    "# Forward Propigation\n",
    "z1 = (w1.T @ x_train) + b1\n",
    "# Sigmoid activation for this example\n",
    "for i in range(0, len(z1)):\n",
    "    for j in range(0, len(z1[i])):\n",
    "        z1[i][j] = sigmoid(z1[i][j])"
   ]
  },
  {
   "cell_type": "code",
   "execution_count": 106,
   "id": "a5d9c81d",
   "metadata": {},
   "outputs": [],
   "source": [
    "# Back propigation\n",
    "dz1 = y_train - z1\n",
    "dw1 = 1 / m * dz1.dot(z1.T)\n",
    "db1 = 1 / m * np.sum(dz1)"
   ]
  },
  {
   "cell_type": "code",
   "execution_count": 107,
   "id": "694ef956",
   "metadata": {},
   "outputs": [],
   "source": [
    "# Update our parameters\n",
    "alpha = 0.1\n",
    "w1 = w1 - alpha * dw1\n",
    "b1 = b1 - alpha * db1"
   ]
  },
  {
   "cell_type": "code",
   "execution_count": 108,
   "id": "11332384",
   "metadata": {},
   "outputs": [],
   "source": [
    "# Prediction\n",
    "z1 = (w1.T @ x_train) + b1\n",
    "# Sigmoid activation for this example\n",
    "for i in range(0, len(z1)):\n",
    "    for j in range(0, len(z1[i])):\n",
    "        z1[i][j] = sigmoid(z1[i][j])"
   ]
  },
  {
   "cell_type": "code",
   "execution_count": 109,
   "id": "d7ee9d3e",
   "metadata": {},
   "outputs": [
    {
     "data": {
      "text/plain": [
       "array([[0.691672  , 0.47729312],\n",
       "       [0.90579901, 0.11767293],\n",
       "       [0.71877346, 0.08172776],\n",
       "       [0.97072943, 0.79076898]])"
      ]
     },
     "execution_count": 109,
     "metadata": {},
     "output_type": "execute_result"
    }
   ],
   "source": [
    "# Predictions (As %'s since we used sigmod)\n",
    "z1"
   ]
  }
 ],
 "metadata": {
  "kernelspec": {
   "display_name": "Python 3 (ipykernel)",
   "language": "python",
   "name": "python3"
  },
  "language_info": {
   "codemirror_mode": {
    "name": "ipython",
    "version": 3
   },
   "file_extension": ".py",
   "mimetype": "text/x-python",
   "name": "python",
   "nbconvert_exporter": "python",
   "pygments_lexer": "ipython3",
   "version": "3.11.2"
  }
 },
 "nbformat": 4,
 "nbformat_minor": 5
}
